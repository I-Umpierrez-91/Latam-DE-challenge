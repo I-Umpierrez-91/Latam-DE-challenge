{
 "cells": [
  {
   "cell_type": "markdown",
   "metadata": {},
   "source": [
    "En este archivo puedes escribir lo que estimes conveniente. Te recomendamos detallar tu solución y todas las suposiciones que estás considerando. Aquí puedes ejecutar las funciones que definiste en los otros archivos de la carpeta src, medir el tiempo, memoria, etc."
   ]
  },
  {
   "cell_type": "markdown",
   "metadata": {},
   "source": [
    "Este archivo fue creado en google Colab, si desea ejecutarlo en otro entorno puede ser necesario instalar las siguientes dependencias:"
   ]
  },
  {
   "cell_type": "code",
   "execution_count": null,
   "metadata": {},
   "outputs": [],
   "source": [
    "%pip install gdown pandas google.cloud.storage google-cloud-bigquery"
   ]
  },
  {
   "cell_type": "code",
   "execution_count": 21,
   "metadata": {},
   "outputs": [],
   "source": [
    "import gdown\n",
    "import pandas as pd\n",
    "import zipfile\n",
    "\n",
    "from pandas.io import gbq\n",
    "from pandas import json_normalize\n",
    "from google.cloud import storage, bigquery"
   ]
  },
  {
   "cell_type": "markdown",
   "metadata": {},
   "source": [
    "Obtengo el archivo desde google drive y lo descomprimo"
   ]
  },
  {
   "cell_type": "code",
   "execution_count": 16,
   "metadata": {},
   "outputs": [
    {
     "name": "stderr",
     "output_type": "stream",
     "text": [
      "Downloading...\n",
      "From (uriginal): https://drive.google.com/uc?id=1ig2ngoXFTxP5Pa8muXo02mDTFexZzsis\n",
      "From (redirected): https://drive.google.com/uc?id=1ig2ngoXFTxP5Pa8muXo02mDTFexZzsis&confirm=t&uuid=f935d566-8965-4f0c-93d2-36c28401e056\n",
      "To: c:\\Users\\Caruso\\source\\Latam-DE-challenge\\src\\working\\tweets.zip\n",
      "100%|██████████| 60.4M/60.4M [00:04<00:00, 14.8MB/s]\n"
     ]
    }
   ],
   "source": [
    "file_path = \"farmers-protest-tweets-2021-2-4.json\"\n",
    "url = f'https://drive.google.com/uc?id=1ig2ngoXFTxP5Pa8muXo02mDTFexZzsis'\n",
    "gdown.download(url, 'working/tweets.zip', quiet=False)\n",
    "\n",
    "extracted_dir = 'working/'\n",
    "\n",
    "# Create a ZipFile object and extract the contents\n",
    "with zipfile.ZipFile('working/tweets.zip', 'r') as zip_ref:\n",
    "    zip_ref.extractall(extracted_dir)\n"
   ]
  },
  {
   "cell_type": "markdown",
   "metadata": {},
   "source": [
    "Lo subo a Google Cloud Storage para poder trabajar con él más facilmente"
   ]
  },
  {
   "cell_type": "code",
   "execution_count": 19,
   "metadata": {},
   "outputs": [],
   "source": [
    "from google.cloud import storage\n",
    "\n",
    "# Variables para conexión a Google Cloud Storage\n",
    "project_id = \"dechallenge\"\n",
    "bucket_name = \"dechallenge-tweets\"\n",
    "keyfile_path = \"..\\creds\\dechallenge-51f78ddf0bb6.json\"  # JSON key file\n",
    "\n",
    "storage_client = storage.Client.from_service_account_json(keyfile_path, project=project_id)\n",
    "bucket = storage_client.bucket(bucket_name)\n",
    "\n",
    "# Replace these variables with your own file details\n",
    "destination_blob_name = file_path\n",
    "\n",
    "# Create a blob (an object) in the bucket\n",
    "blob = bucket.blob(destination_blob_name)\n",
    "\n",
    "# Upload the file to the GCS bucket\n",
    "blob.upload_from_filename(extracted_dir+file_path)"
   ]
  },
  {
   "cell_type": "markdown",
   "metadata": {},
   "source": [
    "Utilizo Google Bigquery para hacer la consulta."
   ]
  },
  {
   "cell_type": "code",
   "execution_count": 57,
   "metadata": {},
   "outputs": [
    {
     "name": "stdout",
     "output_type": "stream",
     "text": [
      "El dataset dechallenge.tweets ya existe.\n",
      "Loaded 117405 rows.\n"
     ]
    }
   ],
   "source": [
    "from google.cloud import bigquery\n",
    "\n",
    "# Crea un cliente de BigQuery\n",
    "client = bigquery.Client.from_service_account_json(keyfile_path, project=project_id)\n",
    "\n",
    "# Especifica el ID del proyecto y el ID del nuevo dataset\n",
    "dataset_id = \"tweets\"\n",
    "\n",
    "# Crea el dataset\n",
    "dataset = bigquery.Dataset(f\"{project_id}.{dataset_id}\")\n",
    "dataset_ref = client.dataset(dataset_id, project=project_id)\n",
    "\n",
    "# Verifica si el dataset ya existe\n",
    "if not client.get_dataset(dataset_ref, retry=bigquery.DEFAULT_RETRY):\n",
    "    # Si el dataset no existe, crea el dataset\n",
    "    dataset = bigquery.Dataset(dataset_ref)\n",
    "    client.create_dataset(dataset)\n",
    "    print(f\"Dataset {project_id}.{dataset_id} creado con éxito.\")\n",
    "else:\n",
    "    print(f\"El dataset {project_id}.{dataset_id} ya existe.\")\n",
    "\n",
    "job_config = bigquery.LoadJobConfig(\n",
    "    autodetect=True,\n",
    "    write_disposition=\"WRITE_TRUNCATE\",\n",
    "    source_format=bigquery.SourceFormat.NEWLINE_DELIMITED_JSON,\n",
    "    max_bad_records=10,\n",
    ")\n",
    "uri = \"gs://dechallenge-tweets/farmers-protest-tweets-2021-2-4.json\"\n",
    "\n",
    "load_job = client.load_table_from_uri(\n",
    "    uri,\n",
    "    \"dechallenge.tweets.farmers_protest_tweets\",\n",
    "    location=\"US\",  # Must match the destination dataset location.\n",
    "    job_config=job_config,\n",
    ")  # Make an API request.\n",
    "\n",
    "load_job.result()  # Waits for the job to complete.\n",
    "\n",
    "destination_table = client.get_table(\"dechallenge.tweets.farmers_protest_tweets\")\n",
    "print(\"Loaded {} rows.\".format(destination_table.num_rows))\n",
    "\n",
    "# Ejecuta la consulta de BigQuery"
   ]
  },
  {
   "cell_type": "code",
   "execution_count": 84,
   "metadata": {},
   "outputs": [
    {
     "name": "stdout",
     "output_type": "stream",
     "text": [
      "Row((datetime.date(2021, 2, 12), 'RanbirS00614606', 12347, 1), {'Date': 0, 'Username': 1, 'DailyTweets': 2, 'UserDailyRank': 3})\n",
      "Row((datetime.date(2021, 2, 13), 'MaanDee08215437', 11296, 1), {'Date': 0, 'Username': 1, 'DailyTweets': 2, 'UserDailyRank': 3})\n",
      "Row((datetime.date(2021, 2, 17), 'RaaJVinderkaur', 11086, 1), {'Date': 0, 'Username': 1, 'DailyTweets': 2, 'UserDailyRank': 3})\n",
      "Row((datetime.date(2021, 2, 16), 'jot__b', 10443, 1), {'Date': 0, 'Username': 1, 'DailyTweets': 2, 'UserDailyRank': 3})\n",
      "Row((datetime.date(2021, 2, 14), 'rebelpacifist', 10249, 1), {'Date': 0, 'Username': 1, 'DailyTweets': 2, 'UserDailyRank': 3})\n",
      "Row((datetime.date(2021, 2, 18), 'neetuanjle_nitu', 9625, 1), {'Date': 0, 'Username': 1, 'DailyTweets': 2, 'UserDailyRank': 3})\n",
      "Row((datetime.date(2021, 2, 15), 'jot__b', 9197, 1), {'Date': 0, 'Username': 1, 'DailyTweets': 2, 'UserDailyRank': 3})\n",
      "Row((datetime.date(2021, 2, 20), 'MangalJ23056160', 8502, 1), {'Date': 0, 'Username': 1, 'DailyTweets': 2, 'UserDailyRank': 3})\n",
      "Row((datetime.date(2021, 2, 23), 'Surrypuria', 8417, 1), {'Date': 0, 'Username': 1, 'DailyTweets': 2, 'UserDailyRank': 3})\n",
      "Row((datetime.date(2021, 2, 19), 'Preetm91', 8204, 1), {'Date': 0, 'Username': 1, 'DailyTweets': 2, 'UserDailyRank': 3})\n"
     ]
    }
   ],
   "source": [
    "query = \"\"\"\n",
    "WITH TweetCounts AS (\n",
    "SELECT user.username, CAST(date as Date) as Date, \n",
    "    Count(1) OVER (PARTITION BY CAST(date as Date)) as DailyTweets,\n",
    "    Count(1) OVER (PARTITION BY CAST(date as Date), user.username) as DailyTweetsByUser\n",
    "FROM `dechallenge.tweets.farmers_protest_tweets`\n",
    "), TweetCountsRank AS (\n",
    "SELECT Date, Username, DailyTweets, ROW_NUMBER() OVER (PARTITION BY Date ORDER BY DailyTweetsByUser DESC) as UserDailyRank\n",
    "FROM TweetCounts\n",
    ")\n",
    "SELECT * FROM TweetCountsRank\n",
    "where UserDailyRank = 1\n",
    "order by DailyTweets desc\n",
    "limit 10\n",
    "\"\"\"\n",
    "\n",
    "# Ejecuta la consulta y almacena los resultados en un DataFrame\n",
    "query_job = client.query(query)\n",
    "for r in query_job.result():\n",
    "    print(r)"
   ]
  },
  {
   "cell_type": "markdown",
   "metadata": {},
   "source": [
    "Ejemplo local utilizando pandas."
   ]
  },
  {
   "cell_type": "code",
   "execution_count": 13,
   "metadata": {},
   "outputs": [
    {
     "data": {
      "text/html": [
       "<div>\n",
       "<style scoped>\n",
       "    .dataframe tbody tr th:only-of-type {\n",
       "        vertical-align: middle;\n",
       "    }\n",
       "\n",
       "    .dataframe tbody tr th {\n",
       "        vertical-align: top;\n",
       "    }\n",
       "\n",
       "    .dataframe thead th {\n",
       "        text-align: right;\n",
       "    }\n",
       "</style>\n",
       "<table border=\"1\" class=\"dataframe\">\n",
       "  <thead>\n",
       "    <tr style=\"text-align: right;\">\n",
       "      <th></th>\n",
       "      <th>userName</th>\n",
       "      <th>date</th>\n",
       "      <th>countByDay</th>\n",
       "    </tr>\n",
       "  </thead>\n",
       "  <tbody>\n",
       "    <tr>\n",
       "      <th>23626</th>\n",
       "      <td>RanbirS00614606</td>\n",
       "      <td>2021-02-12</td>\n",
       "      <td>12347</td>\n",
       "    </tr>\n",
       "    <tr>\n",
       "      <th>16761</th>\n",
       "      <td>MaanDee08215437</td>\n",
       "      <td>2021-02-13</td>\n",
       "      <td>11296</td>\n",
       "    </tr>\n",
       "    <tr>\n",
       "      <th>22650</th>\n",
       "      <td>RaaJVinderkaur</td>\n",
       "      <td>2021-02-17</td>\n",
       "      <td>11087</td>\n",
       "    </tr>\n",
       "    <tr>\n",
       "      <th>40318</th>\n",
       "      <td>jot__b</td>\n",
       "      <td>2021-02-16</td>\n",
       "      <td>10443</td>\n",
       "    </tr>\n",
       "    <tr>\n",
       "      <th>46423</th>\n",
       "      <td>rebelpacifist</td>\n",
       "      <td>2021-02-14</td>\n",
       "      <td>10249</td>\n",
       "    </tr>\n",
       "    <tr>\n",
       "      <th>44085</th>\n",
       "      <td>neetuanjle_nitu</td>\n",
       "      <td>2021-02-18</td>\n",
       "      <td>9625</td>\n",
       "    </tr>\n",
       "    <tr>\n",
       "      <th>40317</th>\n",
       "      <td>jot__b</td>\n",
       "      <td>2021-02-15</td>\n",
       "      <td>9197</td>\n",
       "    </tr>\n",
       "    <tr>\n",
       "      <th>17343</th>\n",
       "      <td>MangalJ23056160</td>\n",
       "      <td>2021-02-20</td>\n",
       "      <td>8502</td>\n",
       "    </tr>\n",
       "    <tr>\n",
       "      <th>28820</th>\n",
       "      <td>Surrypuria</td>\n",
       "      <td>2021-02-23</td>\n",
       "      <td>8417</td>\n",
       "    </tr>\n",
       "    <tr>\n",
       "      <th>21929</th>\n",
       "      <td>Preetm91</td>\n",
       "      <td>2021-02-19</td>\n",
       "      <td>8204</td>\n",
       "    </tr>\n",
       "  </tbody>\n",
       "</table>\n",
       "</div>"
      ],
      "text/plain": [
       "              userName        date  countByDay\n",
       "23626  RanbirS00614606  2021-02-12       12347\n",
       "16761  MaanDee08215437  2021-02-13       11296\n",
       "22650   RaaJVinderkaur  2021-02-17       11087\n",
       "40318           jot__b  2021-02-16       10443\n",
       "46423    rebelpacifist  2021-02-14       10249\n",
       "44085  neetuanjle_nitu  2021-02-18        9625\n",
       "40317           jot__b  2021-02-15        9197\n",
       "17343  MangalJ23056160  2021-02-20        8502\n",
       "28820       Surrypuria  2021-02-23        8417\n",
       "21929         Preetm91  2021-02-19        8204"
      ]
     },
     "execution_count": 13,
     "metadata": {},
     "output_type": "execute_result"
    }
   ],
   "source": [
    "df_tweets = pd.read_json(extracted_dir+file_path, lines=True)\n",
    "\n",
    "# Tengo que normalizar el objeto user para poder acceder a sus atributos\n",
    "df_tweets['userName'] = json_normalize(df_tweets['user']).username\n",
    "\n",
    "df_tweets['date'] = pd.to_datetime(df_tweets['date']).dt.date\n",
    "# Agrupo por 'userName' y 'date' y cuento las filas para saber cuantos tweets hizo cada usuario por día.\n",
    "df_tweets = df_tweets.groupby(['userName','date']).size().reset_index(name='countByUserByDay')\n",
    "# Ahora calculo la cantidad de tweets por día sin agrupar por usuario.\n",
    "df_tweets['countByDay'] = df_tweets.groupby('date')['countByUserByDay'].transform('sum')\n",
    "# Transformo la columna 'date' a tipo datetime\n",
    "\n",
    "\n",
    "# Con la función Rank marco el usuario con más tweets cada día, desempato usando first.\n",
    "df_tweets['dailyUserRank'] = df_tweets.groupby('date')['countByUserByDay'].rank(ascending=False, method='first')\n",
    "\n",
    "df_tweets[(df_tweets['dailyUserRank'] == 1)].sort_values(by='countByDay', ascending=False).head(10)[['date','userName','countByDay']]"
   ]
  },
  {
   "cell_type": "markdown",
   "metadata": {},
   "source": [
    "Voy a probar leer los datos usando bigquery a ver si mejora la performance."
   ]
  }
 ],
 "metadata": {
  "kernelspec": {
   "display_name": "Python 3",
   "language": "python",
   "name": "python3"
  },
  "language_info": {
   "codemirror_mode": {
    "name": "ipython",
    "version": 3
   },
   "file_extension": ".py",
   "mimetype": "text/x-python",
   "name": "python",
   "nbconvert_exporter": "python",
   "pygments_lexer": "ipython3",
   "version": "3.10.11"
  },
  "orig_nbformat": 4
 },
 "nbformat": 4,
 "nbformat_minor": 2
}
