{
 "cells": [
  {
   "cell_type": "markdown",
   "metadata": {},
   "source": [
    "En este archivo puedes escribir lo que estimes conveniente. Te recomendamos detallar tu solución y todas las suposiciones que estás considerando. Aquí puedes ejecutar las funciones que definiste en los otros archivos de la carpeta src, medir el tiempo, memoria, etc."
   ]
  },
  {
   "cell_type": "markdown",
   "metadata": {},
   "source": [
    "Este archivo fue creado en google Colab, si desea ejecutarlo en otro entorno puede ser necesario instalar las siguientes dependencias:"
   ]
  },
  {
   "cell_type": "code",
   "execution_count": null,
   "metadata": {},
   "outputs": [],
   "source": [
    "%pip install gdown pandas google.cloud.storage google-cloud-bigquery"
   ]
  },
  {
   "cell_type": "code",
   "execution_count": 104,
   "metadata": {},
   "outputs": [],
   "source": [
    "import gdown\n",
    "import pandas as pd\n",
    "import zipfile\n",
    "from q1_time import q1_time\n",
    "\n",
    "from pandas.io import gbq\n",
    "from google.cloud import storage, bigquery"
   ]
  },
  {
   "cell_type": "markdown",
   "metadata": {},
   "source": [
    "Obtengo el archivo desde google drive y lo descomprimo"
   ]
  },
  {
   "cell_type": "code",
   "execution_count": 16,
   "metadata": {},
   "outputs": [
    {
     "name": "stderr",
     "output_type": "stream",
     "text": [
      "Downloading...\n",
      "From (uriginal): https://drive.google.com/uc?id=1ig2ngoXFTxP5Pa8muXo02mDTFexZzsis\n",
      "From (redirected): https://drive.google.com/uc?id=1ig2ngoXFTxP5Pa8muXo02mDTFexZzsis&confirm=t&uuid=f935d566-8965-4f0c-93d2-36c28401e056\n",
      "To: c:\\Users\\Caruso\\source\\Latam-DE-challenge\\src\\working\\tweets.zip\n",
      "100%|██████████| 60.4M/60.4M [00:04<00:00, 14.8MB/s]\n"
     ]
    }
   ],
   "source": [
    "file_path = \"farmers-protest-tweets-2021-2-4.json\"\n",
    "url = f'https://drive.google.com/uc?id=1ig2ngoXFTxP5Pa8muXo02mDTFexZzsis'\n",
    "gdown.download(url, 'working/tweets.zip', quiet=False)\n",
    "\n",
    "extracted_dir = 'working/'\n",
    "\n",
    "# Create a ZipFile object and extract the contents\n",
    "with zipfile.ZipFile('working/tweets.zip', 'r') as zip_ref:\n",
    "    zip_ref.extractall(extracted_dir)\n"
   ]
  },
  {
   "cell_type": "markdown",
   "metadata": {},
   "source": [
    "Lo subo a Google Cloud Storage para poder trabajar con él más facilmente"
   ]
  },
  {
   "cell_type": "code",
   "execution_count": 92,
   "metadata": {},
   "outputs": [],
   "source": [
    "from google.cloud import storage\n",
    "\n",
    "# Variables para conexión a Google Cloud Storage\n",
    "project_id = \"dechallenge\"\n",
    "bucket_name = \"dechallenge-tweets\"\n",
    "keyfile_path = \"..\\creds\\dechallenge-51f78ddf0bb6.json\"  # JSON key file\n",
    "\n",
    "storage_client = storage.Client.from_service_account_json(keyfile_path, project=project_id)\n",
    "bucket = storage_client.bucket(bucket_name)\n",
    "\n",
    "# Replace these variables with your own file details\n",
    "destination_blob_name = file_path\n",
    "\n",
    "# Create a blob (an object) in the bucket\n",
    "blob = bucket.blob(destination_blob_name)\n",
    "\n",
    "# Upload the file to the GCS bucket\n",
    "blob.upload_from_filename(extracted_dir+file_path)"
   ]
  },
  {
   "cell_type": "markdown",
   "metadata": {},
   "source": [
    "Utilizo Google Bigquery para hacer la consulta."
   ]
  },
  {
   "cell_type": "code",
   "execution_count": 57,
   "metadata": {},
   "outputs": [
    {
     "name": "stdout",
     "output_type": "stream",
     "text": [
      "El dataset dechallenge.tweets ya existe.\n",
      "Loaded 117405 rows.\n"
     ]
    }
   ],
   "source": [
    "from google.cloud import bigquery\n",
    "\n",
    "# Crea un cliente de BigQuery\n",
    "client = bigquery.Client.from_service_account_json(keyfile_path, project=project_id)\n",
    "\n",
    "# Especifica el ID del proyecto y el ID del nuevo dataset\n",
    "dataset_id = \"tweets\"\n",
    "\n",
    "# Crea el dataset\n",
    "dataset = bigquery.Dataset(f\"{project_id}.{dataset_id}\")\n",
    "dataset_ref = client.dataset(dataset_id, project=project_id)\n",
    "\n",
    "# Verifica si el dataset ya existe\n",
    "if not client.get_dataset(dataset_ref, retry=bigquery.DEFAULT_RETRY):\n",
    "    # Si el dataset no existe, crea el dataset\n",
    "    dataset = bigquery.Dataset(dataset_ref)\n",
    "    client.create_dataset(dataset)\n",
    "    print(f\"Dataset {project_id}.{dataset_id} creado con éxito.\")\n",
    "else:\n",
    "    print(f\"El dataset {project_id}.{dataset_id} ya existe.\")\n",
    "\n",
    "job_config = bigquery.LoadJobConfig(\n",
    "    autodetect=True,\n",
    "    write_disposition=\"WRITE_TRUNCATE\",\n",
    "    source_format=bigquery.SourceFormat.NEWLINE_DELIMITED_JSON,\n",
    "    max_bad_records=10,\n",
    ")\n",
    "uri = \"gs://dechallenge-tweets/farmers-protest-tweets-2021-2-4.json\"\n",
    "\n",
    "load_job = client.load_table_from_uri(\n",
    "    uri,\n",
    "    \"dechallenge.tweets.farmers_protest_tweets\",\n",
    "    location=\"US\",  # Must match the destination dataset location.\n",
    "    job_config=job_config,\n",
    ")  # Make an API request.\n",
    "\n",
    "load_job.result()  # Waits for the job to complete.\n",
    "\n",
    "destination_table = client.get_table(\"dechallenge.tweets.farmers_protest_tweets\")\n",
    "print(\"Loaded {} rows.\".format(destination_table.num_rows))\n",
    "\n",
    "# Ejecuta la consulta de BigQuery"
   ]
  },
  {
   "cell_type": "code",
   "execution_count": 90,
   "metadata": {},
   "outputs": [
    {
     "name": "stdout",
     "output_type": "stream",
     "text": [
      "[(datetime.date(2021, 2, 12), 'RanbirS00614606'), (datetime.date(2021, 2, 13), 'MaanDee08215437'), (datetime.date(2021, 2, 17), 'RaaJVinderkaur'), (datetime.date(2021, 2, 16), 'jot__b'), (datetime.date(2021, 2, 14), 'rebelpacifist'), (datetime.date(2021, 2, 18), 'neetuanjle_nitu'), (datetime.date(2021, 2, 15), 'jot__b'), (datetime.date(2021, 2, 20), 'MangalJ23056160'), (datetime.date(2021, 2, 23), 'Surrypuria'), (datetime.date(2021, 2, 19), 'Preetm91')]\n"
     ]
    }
   ],
   "source": [
    "query = \"\"\"\n",
    "WITH TweetCounts AS (\n",
    "SELECT user.username, CAST(date as Date) as Date, \n",
    "    Count(1) OVER (PARTITION BY CAST(date as Date)) as DailyTweets,\n",
    "    Count(1) OVER (PARTITION BY CAST(date as Date), user.username) as DailyTweetsByUser\n",
    "FROM `dechallenge.tweets.farmers_protest_tweets`\n",
    "), TweetCountsRank AS (\n",
    "SELECT Date, Username, DailyTweets, ROW_NUMBER() OVER (PARTITION BY Date ORDER BY DailyTweetsByUser DESC) as UserDailyRank\n",
    "FROM TweetCounts\n",
    ")\n",
    "SELECT Date, Username FROM TweetCountsRank\n",
    "where UserDailyRank = 1\n",
    "order by DailyTweets desc\n",
    "limit 10\n",
    "\"\"\"\n",
    "\n",
    "# Ejecuta la consulta y almacena los resultados en un DataFrame\n",
    "query_job = client.query(query)\n",
    "# Convierte el RowIterator en una lista de tuplas\n",
    "result_tuple = [tuple(row.values()) for row in query_job.result()]\n",
    "\n",
    "# Imprime la lista de tuplas\n",
    "print(result_tuple)"
   ]
  },
  {
   "cell_type": "markdown",
   "metadata": {},
   "source": [
    "Ejemplo local utilizando pandas."
   ]
  },
  {
   "cell_type": "code",
   "execution_count": 105,
   "metadata": {},
   "outputs": [
    {
     "ename": "AttributeError",
     "evalue": "'str' object has no attribute 'values'",
     "output_type": "error",
     "traceback": [
      "\u001b[1;31m---------------------------------------------------------------------------\u001b[0m",
      "\u001b[1;31mAttributeError\u001b[0m                            Traceback (most recent call last)",
      "\u001b[1;32mc:\\Users\\Caruso\\source\\Latam-DE-challenge\\src\\challenge.ipynb Cell 13\u001b[0m line \u001b[0;36m<cell line: 1>\u001b[1;34m()\u001b[0m\n\u001b[1;32m----> <a href='vscode-notebook-cell:/c%3A/Users/Caruso/source/Latam-DE-challenge/src/challenge.ipynb#X12sZmlsZQ%3D%3D?line=0'>1</a>\u001b[0m resultado \u001b[39m=\u001b[39m q1_time(extracted_dir\u001b[39m+\u001b[39;49mfile_path)\n\u001b[0;32m      <a href='vscode-notebook-cell:/c%3A/Users/Caruso/source/Latam-DE-challenge/src/challenge.ipynb#X12sZmlsZQ%3D%3D?line=1'>2</a>\u001b[0m \u001b[39mprint\u001b[39m(resultado)\n",
      "File \u001b[1;32mc:\\Users\\Caruso\\source\\Latam-DE-challenge\\src\\q1_time.py:23\u001b[0m, in \u001b[0;36mq1_time\u001b[1;34m(file_path)\u001b[0m\n\u001b[0;32m     21\u001b[0m result \u001b[39m=\u001b[39m df_tweets[(df_tweets[\u001b[39m'\u001b[39m\u001b[39mdailyUserRank\u001b[39m\u001b[39m'\u001b[39m] \u001b[39m==\u001b[39m \u001b[39m1\u001b[39m)]\u001b[39m.\u001b[39msort_values(by\u001b[39m=\u001b[39m\u001b[39m'\u001b[39m\u001b[39mcountByDay\u001b[39m\u001b[39m'\u001b[39m, ascending\u001b[39m=\u001b[39m\u001b[39mFalse\u001b[39;00m)\u001b[39m.\u001b[39mhead(\u001b[39m10\u001b[39m)[[\u001b[39m'\u001b[39m\u001b[39mdate\u001b[39m\u001b[39m'\u001b[39m,\u001b[39m'\u001b[39m\u001b[39muserName\u001b[39m\u001b[39m'\u001b[39m]]\n\u001b[0;32m     22\u001b[0m \u001b[39m# Convierte el RowIterator en una lista de tuplas\u001b[39;00m\n\u001b[1;32m---> 23\u001b[0m result_tuple \u001b[39m=\u001b[39m [\u001b[39mtuple\u001b[39m(row\u001b[39m.\u001b[39mvalues()) \u001b[39mfor\u001b[39;00m row \u001b[39min\u001b[39;00m result]\n\u001b[0;32m     25\u001b[0m \u001b[39m# Imprime la lista de tuplas\u001b[39;00m\n\u001b[0;32m     26\u001b[0m \u001b[39mreturn\u001b[39;00m result_tuple\n",
      "File \u001b[1;32mc:\\Users\\Caruso\\source\\Latam-DE-challenge\\src\\q1_time.py:23\u001b[0m, in \u001b[0;36m<listcomp>\u001b[1;34m(.0)\u001b[0m\n\u001b[0;32m     21\u001b[0m result \u001b[39m=\u001b[39m df_tweets[(df_tweets[\u001b[39m'\u001b[39m\u001b[39mdailyUserRank\u001b[39m\u001b[39m'\u001b[39m] \u001b[39m==\u001b[39m \u001b[39m1\u001b[39m)]\u001b[39m.\u001b[39msort_values(by\u001b[39m=\u001b[39m\u001b[39m'\u001b[39m\u001b[39mcountByDay\u001b[39m\u001b[39m'\u001b[39m, ascending\u001b[39m=\u001b[39m\u001b[39mFalse\u001b[39;00m)\u001b[39m.\u001b[39mhead(\u001b[39m10\u001b[39m)[[\u001b[39m'\u001b[39m\u001b[39mdate\u001b[39m\u001b[39m'\u001b[39m,\u001b[39m'\u001b[39m\u001b[39muserName\u001b[39m\u001b[39m'\u001b[39m]]\n\u001b[0;32m     22\u001b[0m \u001b[39m# Convierte el RowIterator en una lista de tuplas\u001b[39;00m\n\u001b[1;32m---> 23\u001b[0m result_tuple \u001b[39m=\u001b[39m [\u001b[39mtuple\u001b[39m(row\u001b[39m.\u001b[39;49mvalues()) \u001b[39mfor\u001b[39;00m row \u001b[39min\u001b[39;00m result]\n\u001b[0;32m     25\u001b[0m \u001b[39m# Imprime la lista de tuplas\u001b[39;00m\n\u001b[0;32m     26\u001b[0m \u001b[39mreturn\u001b[39;00m result_tuple\n",
      "\u001b[1;31mAttributeError\u001b[0m: 'str' object has no attribute 'values'"
     ]
    }
   ],
   "source": [
    "resultado = q1_time(extracted_dir+file_path)\n",
    "print(resultado)"
   ]
  },
  {
   "cell_type": "markdown",
   "metadata": {},
   "source": [
    "Voy a probar leer los datos usando bigquery a ver si mejora la performance."
   ]
  }
 ],
 "metadata": {
  "kernelspec": {
   "display_name": "Python 3",
   "language": "python",
   "name": "python3"
  },
  "language_info": {
   "codemirror_mode": {
    "name": "ipython",
    "version": 3
   },
   "file_extension": ".py",
   "mimetype": "text/x-python",
   "name": "python",
   "nbconvert_exporter": "python",
   "pygments_lexer": "ipython3",
   "version": "3.10.11"
  },
  "orig_nbformat": 4
 },
 "nbformat": 4,
 "nbformat_minor": 2
}
